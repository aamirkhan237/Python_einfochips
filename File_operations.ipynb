{
  "nbformat": 4,
  "nbformat_minor": 0,
  "metadata": {
    "colab": {
      "provenance": []
    },
    "kernelspec": {
      "name": "python3",
      "display_name": "Python 3"
    },
    "language_info": {
      "name": "python"
    }
  },
  "cells": [
    {
      "cell_type": "code",
      "execution_count": 1,
      "metadata": {
        "id": "SBQnNvYHybuJ"
      },
      "outputs": [],
      "source": [
        "file2=open(\"School2.txt\",\"w\")\n",
        "file2.write( \"My School is the best school of the city.\\n\"\n",
        "\n",
        " \"It is located in the center of Varanasi.\\n\"\n",
        "\n",
        " \"My school name is Sant Atulanand Convent School.\\n\"\n",
        "\n",
        " \"I love to go to my school very much.\\n\"\n",
        "\n",
        " \"I study here from LKG.\\n\"\n",
        "\n",
        " \"It has a big playground.\\n\"\n",
        "\n",
        ")\n",
        "file2.close()"
      ]
    },
    {
      "cell_type": "code",
      "source": [
        "file2=open(\"School.txt\",\"w\")\n",
        "file2.write( \"My School is the best school of the city.\\n\"\n",
        "\n",
        " \"It is located in the center of Varanasi.\\n\"\n",
        "\n",
        " \"My school name is Sant Atulanand Convent School.\\n\"\n",
        "\n",
        " \"I love to go to my school very much.\\n\"\n",
        "\n",
        " \"I study here from LKG.\\n\"\n",
        "\n",
        " \"It has a big playground.\\n\"\n",
        "\n",
        "\"It also has a big computer lab.\\n\"\n",
        "\n",
        " \"My school has been ranked 1st due to its greenery.\\n\"\n",
        "\n",
        " \"My school focuses on the knowledge of students.\\n\"\n",
        "\n",
        "\"My school has the best teachers of the city.\\n\" \n",
        "\n",
        ")\n",
        "file2.close()"
      ],
      "metadata": {
        "id": "c_F6YzKQydsv"
      },
      "execution_count": 3,
      "outputs": []
    },
    {
      "cell_type": "code",
      "source": [
        "def word_count(str):\n",
        "    counts = dict()\n",
        "    words = str.split()\n",
        "\n",
        "    for word in words:\n",
        "        if word in counts:\n",
        "            counts[word] += 1\n",
        "        else:\n",
        "            counts[word] = 1\n",
        "\n",
        "    return counts\n",
        " \n",
        "file2=open(\"School2.txt\",\"r\")\n",
        "file2_count=word_count(file2.read())\n",
        "print(file2_count)\n",
        "\n",
        "file2=open(\"School.txt\",\"r\")\n",
        "file1_count=word_count(file2.read())\n",
        "print(file1_count)\n",
        "sum1=0\n",
        "sum2=0\n",
        "for j in file2_count.values():\n",
        "  sum2=sum2+j\n",
        "print(sum2)\n",
        "\n",
        "for x in file1_count.values():\n",
        "  sum1=sum1+x\n",
        "print(sum1)"
      ],
      "metadata": {
        "colab": {
          "base_uri": "https://localhost:8080/"
        },
        "id": "0xAaauQ_yk_s",
        "outputId": "8ea5ae02-7a4c-475e-efed-7f5d30bfc933"
      },
      "execution_count": 4,
      "outputs": [
        {
          "output_type": "stream",
          "name": "stdout",
          "text": [
            "{'My': 2, 'School': 1, 'is': 3, 'the': 3, 'best': 1, 'school': 3, 'of': 2, 'city.': 1, 'It': 2, 'located': 1, 'in': 1, 'center': 1, 'Varanasi.': 1, 'name': 1, 'Sant': 1, 'Atulanand': 1, 'Convent': 1, 'School.': 1, 'I': 2, 'love': 1, 'to': 2, 'go': 1, 'my': 1, 'very': 1, 'much.': 1, 'study': 1, 'here': 1, 'from': 1, 'LKG.': 1, 'has': 1, 'a': 1, 'big': 1, 'playground.': 1}\n",
            "{'My': 5, 'School': 1, 'is': 3, 'the': 6, 'best': 2, 'school': 6, 'of': 4, 'city.': 2, 'It': 3, 'located': 1, 'in': 1, 'center': 1, 'Varanasi.': 1, 'name': 1, 'Sant': 1, 'Atulanand': 1, 'Convent': 1, 'School.': 1, 'I': 2, 'love': 1, 'to': 3, 'go': 1, 'my': 1, 'very': 1, 'much.': 1, 'study': 1, 'here': 1, 'from': 1, 'LKG.': 1, 'has': 4, 'a': 2, 'big': 2, 'playground.': 1, 'also': 1, 'computer': 1, 'lab.': 1, 'been': 1, 'ranked': 1, '1st': 1, 'due': 1, 'its': 1, 'greenery.': 1, 'focuses': 1, 'on': 1, 'knowledge': 1, 'students.': 1, 'teachers': 1}\n",
            "44\n",
            "78\n"
          ]
        }
      ]
    },
    {
      "cell_type": "code",
      "source": [
        "tot=0\n",
        "for k1,y in file1_count.items():\n",
        "  for k2,d in file2_count.items():\n",
        "    if k1==k2:\n",
        "      if y>d:\n",
        "        tot=tot+d\n",
        "      else:\n",
        "        tot=tot+y\n",
        "print(tot)\n",
        "\n",
        "maximum=max(sum1,sum2)\n",
        "print((tot/maximum)*100)"
      ],
      "metadata": {
        "colab": {
          "base_uri": "https://localhost:8080/"
        },
        "id": "NibO4MMIyoWx",
        "outputId": "71892abe-2055-4540-81f5-34e5f1e83d1f"
      },
      "execution_count": 5,
      "outputs": [
        {
          "output_type": "stream",
          "name": "stdout",
          "text": [
            "44\n",
            "56.41025641025641\n"
          ]
        }
      ]
    }
  ]
}