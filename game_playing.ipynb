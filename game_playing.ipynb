{
  "cells": [
    {
      "cell_type": "markdown",
      "metadata": {
        "id": "-t9nyDJVqtUS"
      },
      "source": [
        "                                                  **WELCOME TO PLAYZONE**"
      ]
    },
    {
      "cell_type": "markdown",
      "metadata": {
        "id": "zCrGc76lQHJX"
      },
      "source": [
        "#cafeteria"
      ]
    },
    {
      "cell_type": "code",
      "execution_count": 2,
      "metadata": {
        "id": "L6mWD4vSPq3_"
      },
      "outputs": [],
      "source": [
        "def cafeteria(userpoints):\n",
        "\n",
        "  menu={\"pasta\":50,\"maggi\":40,\"pizza\":20, \"birayni\":30, \"punjabi\":44}\n",
        "  order={}\n",
        "  print(\"--------------------------------Welcome Sir------------------------------------\")\n",
        "  print(menu)\n",
        "  print(\"-=-=-=-=-=-=-=-=-=-=-=-=-Enter full when you are satisfied-=-==-===-=-==-==-==-====-\")\n",
        "  item=\"\"\n",
        "  while (item!=\"full\"):\n",
        "    item=input(\"enter your order IMP!!! ENTER FULL WHEN YOURE SATISFIED AND PUT QUANTITY TO ANYNUMBER \")\n",
        "    qty=int(input(\"Enter quantity \"))\n",
        "    order[item]=qty\n",
        "\n",
        "  def pay_bill(userpoints):\n",
        "    bill=0\n",
        "    for i,j in order.items():\n",
        "      for x,y in menu.items():\n",
        "        if(i==x):\n",
        "          bill=bill+(j*y)\n",
        "    return bill\n",
        "    print(bill)\n",
        "\n",
        "  print(\"Your order is \",order)\n",
        "  confirm=input('Please confim Your order yes/no ')\n",
        "  while(confirm!=\"no\"):\n",
        "    y=0\n",
        "    y=int(input(\"Enter 1 to add new item\\n enter 2 to modify quantity\\n 3 to delete \\n enter 4 to stop\"))\n",
        "    if(y==1):\n",
        "      dish=input('Enter an item ' )\n",
        "      q=int(input(\"Enter  quantity \"))\n",
        "      order[dish]=q\n",
        "      print(order)\n",
        "\n",
        "    elif(y==2):\n",
        "      dish=input(\"Enter name of item \")\n",
        "      q=int(input(\"Enter updated quantity \"))\n",
        "      order[dish]=q\n",
        "      print(order)\n",
        "\n",
        "    elif(y==3):\n",
        "      dish=input(\"Enter name of item to delete \")\n",
        "      del order[dish]\n",
        "      print(order)\n",
        "    elif(y==4):\n",
        "      total=pay_bill(userpoints)\n",
        "      print(total)\n",
        "      if userpoints>=int(total):\n",
        "          print(\"------------------------------------------\") \n",
        "          print(\"YOUR BALANCE:\",userpoints)\n",
        "          print(\"Your bill for cafeteria is :\",total)\n",
        "          print(\"Your balance after purachasing from cafteria\",userpoints-total)\n",
        "          print('----------Thanks, Visit Again---------')\n",
        "          userpoints = userpoints-total\n",
        "          break\n",
        "      else:\n",
        "\n",
        "        print()\n",
        "        print(\"Recharege your card \")\n",
        "        break\n",
        "  return userpoints\n",
        "\n",
        "\n",
        "\n",
        "     \n",
        "\n",
        "  #     print('----------Thanks, Visit Again---------')\n",
        "  #     break\n",
        "  #   else:\n",
        "  #     continue\n",
        "  # return total\n",
        "  # if userpoints>=int(total):\n",
        "  #   print(\"------------------------------------------\") \n",
        "  #   print(\"YOUR BALAANCE:\",userpoints)\n",
        "  #   print(\"Your bill for cafeteria is :\",total)\n",
        "  #   print(\"Your balance after purachasing from cafteria\",userpoints-total)\n",
        "  # return userpoints-total\n",
        "  \n",
        "\n",
        "\n",
        "\n"
      ]
    },
    {
      "cell_type": "markdown",
      "metadata": {
        "id": "pjCE7KLsq3eQ"
      },
      "source": [
        "# MOVIE GUESSING"
      ]
    },
    {
      "cell_type": "code",
      "execution_count": 3,
      "metadata": {
        "id": "yU02D6XLC14m"
      },
      "outputs": [],
      "source": [
        "\n",
        "def movie_game():\n",
        "    import random\n",
        "    movie_lst=[\"pathan\",\"KGF\",\"Avengers\",\"BATMAN\",\"Bahubali\",\"kuch kuch hota h\"]\n",
        "    movie=random.choice(movie_lst)\n",
        "    movie=movie.lower()\n",
        "    movie=movie.replace(\" \",\"\")\n",
        "    print(movie)\n",
        "\n",
        "\n",
        "    movie=list(movie)\n",
        "    movie1=[\"*\"]*len(movie)\n",
        "    print(movie1)\n",
        "    chance=5\n",
        "    while(movie!=movie1 and chance>0):\n",
        "      a=input(\"Enter a character \")\n",
        "      if a in movie:\n",
        "        for i in range(len(movie)):\n",
        "          if movie[i]==a:\n",
        "            movie1[i]=a\n",
        "      else:\n",
        "          chance=chance-1\n",
        "          print(\"wrong answer you have \", chance,\"chance left\")\n",
        "      print(movie1)\n",
        "    if chance>0:\n",
        "      return 1\n",
        "    else:\n",
        "      return 0\n",
        " \n",
        "  \n",
        "\n"
      ]
    },
    {
      "cell_type": "markdown",
      "metadata": {
        "id": "r8MBe3YaKWGg"
      },
      "source": []
    },
    {
      "cell_type": "code",
      "execution_count": 4,
      "metadata": {
        "id": "ifvTdTH_KXV0"
      },
      "outputs": [],
      "source": [
        "def score_movie(userpoints):\n",
        "  rounds=3\n",
        "  player=2\n",
        "  # userpoints=0 #Here uerpoints are defined\n",
        "  score=[0]*player\n",
        "  for i in range(rounds):\n",
        "    for j in range(player):\n",
        "      print(\"Its your turn player\",j+1)\n",
        "      score[j]=score[j] + movie_game()\n",
        "  if score[0]==score[1]:\n",
        "    print(\"tie\")\n",
        "  else:\n",
        "    winner=score.index(max(score))\n",
        "    print(\"winner is\", winner+1,\"\\n with scores\",score)\n",
        "    print(\"YOUR BALANCE :\",userpoints-30)\n",
        "    return userpoints-30\n",
        "\n",
        "\n",
        "  "
      ]
    },
    {
      "cell_type": "code",
      "execution_count": null,
      "metadata": {
        "id": "l7oSyTcjFXid"
      },
      "outputs": [],
      "source": []
    },
    {
      "cell_type": "markdown",
      "metadata": {
        "id": "f9ujATeFsS6r"
      },
      "source": [
        "#SNake LaDdeR"
      ]
    },
    {
      "cell_type": "code",
      "execution_count": 5,
      "metadata": {
        "id": "JWuNOCCbriOI"
      },
      "outputs": [],
      "source": [
        "import random\n",
        "\n",
        "def snakeandlader(user_points):\n",
        "    \n",
        "  point=0\n",
        "  dict_snake_ladder={1:38,4:14,8:10,21:42,28:74,50:67,71:92,80:99,97:78,95:56,88:24,62:18,36:6,48:26,32:10}\n",
        "\n",
        "  while (point<94):\n",
        "    user=int(input(\"Enter 1 to play \"))\n",
        "    if user==1:  \n",
        "      computer1=random.randint(1,7)\n",
        "    else:\n",
        "      computer1=0\n",
        "    print(point,\"Before roll dice\")\n",
        "    point=point+computer1\n",
        "    print(point,\"After roll dice\")\n",
        "    print(point)\n",
        "    if point in dict_snake_ladder.keys():\n",
        "        point=dict_snake_ladder[point]\n",
        "    else:\n",
        "      pass\n",
        "  print(point)\n",
        "\n",
        "\n",
        "  while(True):\n",
        "    computer1=random.randint(1,6)\n",
        "    diff=100-point\n",
        "    if point ==100:\n",
        "      user_points += 20\n",
        "      break\n",
        "    elif computer1<=diff:\n",
        "      point=point+computer1\n",
        "    else:\n",
        "      continue\n",
        "\n",
        "  print(point)\n",
        "\n",
        "  return user_points"
      ]
    },
    {
      "cell_type": "code",
      "execution_count": null,
      "metadata": {
        "id": "z_79gSzrsREy"
      },
      "outputs": [],
      "source": []
    },
    {
      "cell_type": "markdown",
      "metadata": {
        "id": "A_CIGsY4Ji-S"
      },
      "source": [
        "# ROCK Papper Scissors Game"
      ]
    },
    {
      "cell_type": "code",
      "execution_count": 6,
      "metadata": {
        "id": "QA3DrxDmDJyX",
        "colab": {
          "base_uri": "https://localhost:8080/"
        },
        "outputId": "70f0bbcd-93e5-41d8-acfa-6122ba51aac4"
      },
      "outputs": [
        {
          "output_type": "stream",
          "name": "stdout",
          "text": [
            "Welcome to ROCK PAPPER SCISSORS GAME\n",
            "Lets Play game  Roll your hand Rock\n",
            "hi\n",
            "Player wins\n",
            "you have win Your balance is 230\n",
            "230\n"
          ]
        }
      ],
      "source": [
        "import random\n",
        "\n",
        "def ropasc(userpoints):\n",
        "  lst=[\"Rock\",\"Papper\",\"Scissors\"]\n",
        "  print(\"Welcome to ROCK PAPPER SCISSORS GAME \")\n",
        "\n",
        "  rnd=random.choice(lst)\n",
        "  n=input('Lets Play game \\n Roll your hand must enter Rock ,Papper and Scissors like this not like \"rock\" ')\n",
        "  print()\n",
        "  if n==rnd:\n",
        "    print(\"Tie\")\n",
        "    print(\"your balance is\",userpoints)\n",
        "  \n",
        "  elif rnd==\"Rock\" and n==\"Papper\":\n",
        "    print(\"Computer wins\")\n",
        "    userpoints=userpoints-30\n",
        "    print(\"you have lost Your balance is\",userpoints)\n",
        "  elif rnd==\"Papper\" and n==\"Rock\":\n",
        "    print(\"Player wins\")\n",
        "    userpoints=userpoints+30\n",
        "    print(\"you have win Your balance is\",userpoints)\n",
        "  elif rnd==\"Scissors\" and n==\"Rock\":\n",
        "    print(\"Player wins\")\n",
        "    userpoints=userpoints+30\n",
        "    print(\"you have win Your balance is\",userpoints)\n",
        "  elif rnd==\"Rock\" and n==\"Scissors\":\n",
        "    print(\"Computer wins\")\n",
        "    userpoints=userpoints-30\n",
        "    print(\"you have lost Your balance is\",userpoints)\n",
        "  elif rnd==\"Scissors\" and n==\"Papper\":\n",
        "    print(\"Computer wins\")\n",
        "    userpoints=userpoints-30\n",
        "    print(\"you have lost Your balance is\",userpoints)\n",
        "  elif rnd==\"Papper\" and n==\"Scissors\":\n",
        "    print(\"Player wins\")\n",
        "    userpoints=userpoints+30\n",
        "    print(\"you have win Your balance is\",userpoints)\n",
        "  return userpoints\n",
        "\n",
        "p = ropasc(200)\n",
        "print(p)\n"
      ]
    },
    {
      "cell_type": "markdown",
      "metadata": {
        "id": "2Mjc7B-OJ_KA"
      },
      "source": [
        "#FLAMES GAME"
      ]
    },
    {
      "cell_type": "markdown",
      "metadata": {
        "id": "a-JyGfRFJ-yQ"
      },
      "source": []
    },
    {
      "cell_type": "code",
      "execution_count": 7,
      "metadata": {
        "id": "U3kKhuviEiKQ"
      },
      "outputs": [],
      "source": [
        "def flames(user_points):\n",
        "  arr=['Friends','Lover','Affection','Marriage','Enemy','Sibling']\n",
        "  a=list(input(\"Enter your  name \").lower())\n",
        "  b= list(input('Enter your beloved one name ').lower())\n",
        "  c= 0\n",
        "  for i in range(len(a)):\n",
        "    if a[c] in b:\n",
        "      b.remove(a[c])\n",
        "      a.remove(a[c])\n",
        "    else:\n",
        "      c= c+1\n",
        "  count= len(a+b)\n",
        "  print(count)\n",
        "  tempcount= count-1\n",
        "  inr = count-1\n",
        "  while(len(arr)!=1):\n",
        "    limit = inr % len(arr)\n",
        "    temp =arr [limit]\n",
        "    arr.remove(temp)\n",
        "    inr=(limit + tempcount) % len(arr)\n",
        "  else:\n",
        "    print(arr[0])\n",
        "  return user_points\n",
        "\n"
      ]
    },
    {
      "cell_type": "markdown",
      "metadata": {
        "id": "9wxt6R1cLHfD"
      },
      "source": [
        "#tic-tac-toe\n"
      ]
    },
    {
      "cell_type": "code",
      "execution_count": 8,
      "metadata": {
        "id": "-Zg7reKjMSeR"
      },
      "outputs": [],
      "source": [
        "def tictactoe():\n",
        "    \n",
        "  def sum(a, b, c ):\n",
        "      return a + b + c\n",
        "\n",
        "  def printBoard(xState, zState):\n",
        "      zero = 'X' if xState[0] else ('O' if zState[0] else 0)\n",
        "      one = 'X' if xState[1] else ('O' if zState[1] else 1)\n",
        "      two = 'X' if xState[2] else ('O' if zState[2] else 2)\n",
        "      three = 'X' if xState[3] else ('O' if zState[3] else 3)\n",
        "      four = 'X' if xState[4] else ('O' if zState[4] else 4)\n",
        "      five = 'X' if xState[5] else ('O' if zState[5] else 5)\n",
        "      six = 'X' if xState[6] else ('O' if zState[6] else 6)\n",
        "      seven = 'X' if xState[7] else ('O' if zState[7] else 7)\n",
        "      eight = 'X' if xState[8] else ('O' if zState[8] else 8)\n",
        "      print(f\"{zero} | {one} | {two} \")\n",
        "      print(f\"--|---|---\")\n",
        "      print(f\"{three} | {four} | {five} \")\n",
        "      print(f\"--|---|---\")\n",
        "      print(f\"{six} | {seven} | {eight} \") \n",
        "\n",
        "  def checkWin(xState, zState):\n",
        "      wins = [[0, 1, 2], [3, 4, 5], [6, 7, 8], [0, 3, 6], [1, 4, 7], [2, 5, 8], [0, 4, 8], [2, 4, 6]]\n",
        "      for win in wins:\n",
        "          if(sum(xState[win[0]], xState[win[1]], xState[win[2]]) == 3):\n",
        "              print(\"X Won the match\")\n",
        "              return 1\n",
        "          if(sum(zState[win[0]], zState[win[1]], zState[win[2]]) == 3):\n",
        "              print(\"O Won the match\")\n",
        "              return 0\n",
        "      return -1\n",
        "      \n",
        "  if __name__ == \"__main__\":\n",
        "      xState = [0, 0, 0, 0, 0, 0, 0, 0, 0]\n",
        "      zState = [0, 0, 0, 0, 0, 0, 0, 0, 0]\n",
        "      turn = 1 # 1 for X and 0 for O\n",
        "      print(\"Welcome to Tic Tac Toe\")\n",
        "      while(True):\n",
        "          printBoard(xState, zState)\n",
        "          if(turn == 1):\n",
        "              print(\"X's Chance\")\n",
        "              value = int(input(\"Please enter a value: \"))\n",
        "              xState[value] = 1\n",
        "          else:\n",
        "              print(\"O's Chance\")\n",
        "              value = int(input(\"Please enter a value: \"))\n",
        "              zState[value] = 1\n",
        "          cwin = checkWin(xState, zState)\n",
        "          if(cwin != -1):\n",
        "              print(\"Match over\")\n",
        "              break\n",
        "          \n",
        "          turn = 1 - turn"
      ]
    },
    {
      "cell_type": "code",
      "execution_count": 15,
      "metadata": {
        "colab": {
          "base_uri": "https://localhost:8080/",
          "height": 728
        },
        "id": "7W_O2ggCxRnb",
        "outputId": "811ae5c2-0daf-4485-b083-b1049482fba2"
      },
      "outputs": [
        {
          "output_type": "stream",
          "name": "stdout",
          "text": [
            "\n",
            "------------------------------------Welcome To Gamezone----------------------------------\n",
            "\n",
            "Press 1 for Cafeteria\n",
            "Press 2 for Flames\n",
            "Press 3 for Rock Paper Scissors\n",
            "Press 4 for Guess The Movie\n",
            "Press 5 for Snake And Ladder\n",
            "Press 6 for Tic Tac Toe\n",
            "Press 0 To Exit\n",
            "\n",
            "Enter Your Choice 1\n",
            "You have  500 points\n",
            "Do you want to continue to go to Cafeteria portal \n",
            "Yes/No\n",
            "\n",
            "Please confirm Sir by typing YES/NO yes\n",
            "Welcome Sir\n",
            "{'pasta': 50, 'maggi': 40, 'pizza': 20, 'birayni': 30, 'punjabi': 44}\n",
            "Enter full when you are satisfied\n"
          ]
        },
        {
          "output_type": "error",
          "ename": "KeyboardInterrupt",
          "evalue": "ignored",
          "traceback": [
            "\u001b[0;31m---------------------------------------------------------------------------\u001b[0m",
            "\u001b[0;31mKeyboardInterrupt\u001b[0m                         Traceback (most recent call last)",
            "\u001b[0;32m<ipython-input-15-f8dfbb8537da>\u001b[0m in \u001b[0;36m<module>\u001b[0;34m\u001b[0m\n\u001b[1;32m     29\u001b[0m       \u001b[0muser_confirm\u001b[0m \u001b[0;34m=\u001b[0m \u001b[0muser_confirm\u001b[0m\u001b[0;34m.\u001b[0m\u001b[0mlower\u001b[0m\u001b[0;34m(\u001b[0m\u001b[0;34m)\u001b[0m\u001b[0;34m\u001b[0m\u001b[0;34m\u001b[0m\u001b[0m\n\u001b[1;32m     30\u001b[0m       \u001b[0;32mif\u001b[0m \u001b[0muser_confirm\u001b[0m \u001b[0;34m==\u001b[0m  \u001b[0;34m\"yes\"\u001b[0m\u001b[0;34m:\u001b[0m\u001b[0;34m\u001b[0m\u001b[0;34m\u001b[0m\u001b[0m\n\u001b[0;32m---> 31\u001b[0;31m         \u001b[0muserpoints\u001b[0m \u001b[0;34m=\u001b[0m \u001b[0mcafeteria\u001b[0m\u001b[0;34m(\u001b[0m\u001b[0muserpoints\u001b[0m\u001b[0;34m)\u001b[0m\u001b[0;34m\u001b[0m\u001b[0;34m\u001b[0m\u001b[0m\n\u001b[0m\u001b[1;32m     32\u001b[0m         \u001b[0;32mcontinue\u001b[0m\u001b[0;34m\u001b[0m\u001b[0;34m\u001b[0m\u001b[0m\n\u001b[1;32m     33\u001b[0m \u001b[0;34m\u001b[0m\u001b[0m\n",
            "\u001b[0;32m<ipython-input-2-33b1627af333>\u001b[0m in \u001b[0;36mcafeteria\u001b[0;34m(userpoints)\u001b[0m\n\u001b[1;32m      8\u001b[0m   \u001b[0mitem\u001b[0m\u001b[0;34m=\u001b[0m\u001b[0;34m\"\"\u001b[0m\u001b[0;34m\u001b[0m\u001b[0;34m\u001b[0m\u001b[0m\n\u001b[1;32m      9\u001b[0m   \u001b[0;32mwhile\u001b[0m \u001b[0;34m(\u001b[0m\u001b[0mitem\u001b[0m\u001b[0;34m!=\u001b[0m\u001b[0;34m\"full\"\u001b[0m\u001b[0;34m)\u001b[0m\u001b[0;34m:\u001b[0m\u001b[0;34m\u001b[0m\u001b[0;34m\u001b[0m\u001b[0m\n\u001b[0;32m---> 10\u001b[0;31m     \u001b[0mitem\u001b[0m\u001b[0;34m=\u001b[0m\u001b[0minput\u001b[0m\u001b[0;34m(\u001b[0m\u001b[0;34m\"enter your order\"\u001b[0m\u001b[0;34m)\u001b[0m\u001b[0;34m\u001b[0m\u001b[0;34m\u001b[0m\u001b[0m\n\u001b[0m\u001b[1;32m     11\u001b[0m     \u001b[0mqty\u001b[0m\u001b[0;34m=\u001b[0m\u001b[0mint\u001b[0m\u001b[0;34m(\u001b[0m\u001b[0minput\u001b[0m\u001b[0;34m(\u001b[0m\u001b[0;34m\"Enter quantity\"\u001b[0m\u001b[0;34m)\u001b[0m\u001b[0;34m)\u001b[0m\u001b[0;34m\u001b[0m\u001b[0;34m\u001b[0m\u001b[0m\n\u001b[1;32m     12\u001b[0m     \u001b[0morder\u001b[0m\u001b[0;34m[\u001b[0m\u001b[0mitem\u001b[0m\u001b[0;34m]\u001b[0m\u001b[0;34m=\u001b[0m\u001b[0mqty\u001b[0m\u001b[0;34m\u001b[0m\u001b[0;34m\u001b[0m\u001b[0m\n",
            "\u001b[0;32m/usr/local/lib/python3.8/dist-packages/ipykernel/kernelbase.py\u001b[0m in \u001b[0;36mraw_input\u001b[0;34m(self, prompt)\u001b[0m\n\u001b[1;32m    858\u001b[0m                 \u001b[0;34m\"raw_input was called, but this frontend does not support input requests.\"\u001b[0m\u001b[0;34m\u001b[0m\u001b[0;34m\u001b[0m\u001b[0m\n\u001b[1;32m    859\u001b[0m             )\n\u001b[0;32m--> 860\u001b[0;31m         return self._input_request(str(prompt),\n\u001b[0m\u001b[1;32m    861\u001b[0m             \u001b[0mself\u001b[0m\u001b[0;34m.\u001b[0m\u001b[0m_parent_ident\u001b[0m\u001b[0;34m,\u001b[0m\u001b[0;34m\u001b[0m\u001b[0;34m\u001b[0m\u001b[0m\n\u001b[1;32m    862\u001b[0m             \u001b[0mself\u001b[0m\u001b[0;34m.\u001b[0m\u001b[0m_parent_header\u001b[0m\u001b[0;34m,\u001b[0m\u001b[0;34m\u001b[0m\u001b[0;34m\u001b[0m\u001b[0m\n",
            "\u001b[0;32m/usr/local/lib/python3.8/dist-packages/ipykernel/kernelbase.py\u001b[0m in \u001b[0;36m_input_request\u001b[0;34m(self, prompt, ident, parent, password)\u001b[0m\n\u001b[1;32m    902\u001b[0m             \u001b[0;32mexcept\u001b[0m \u001b[0mKeyboardInterrupt\u001b[0m\u001b[0;34m:\u001b[0m\u001b[0;34m\u001b[0m\u001b[0;34m\u001b[0m\u001b[0m\n\u001b[1;32m    903\u001b[0m                 \u001b[0;31m# re-raise KeyboardInterrupt, to truncate traceback\u001b[0m\u001b[0;34m\u001b[0m\u001b[0;34m\u001b[0m\u001b[0;34m\u001b[0m\u001b[0m\n\u001b[0;32m--> 904\u001b[0;31m                 \u001b[0;32mraise\u001b[0m \u001b[0mKeyboardInterrupt\u001b[0m\u001b[0;34m(\u001b[0m\u001b[0;34m\"Interrupted by user\"\u001b[0m\u001b[0;34m)\u001b[0m \u001b[0;32mfrom\u001b[0m \u001b[0;32mNone\u001b[0m\u001b[0;34m\u001b[0m\u001b[0;34m\u001b[0m\u001b[0m\n\u001b[0m\u001b[1;32m    905\u001b[0m             \u001b[0;32mexcept\u001b[0m \u001b[0mException\u001b[0m \u001b[0;32mas\u001b[0m \u001b[0me\u001b[0m\u001b[0;34m:\u001b[0m\u001b[0;34m\u001b[0m\u001b[0;34m\u001b[0m\u001b[0m\n\u001b[1;32m    906\u001b[0m                 \u001b[0mself\u001b[0m\u001b[0;34m.\u001b[0m\u001b[0mlog\u001b[0m\u001b[0;34m.\u001b[0m\u001b[0mwarning\u001b[0m\u001b[0;34m(\u001b[0m\u001b[0;34m\"Invalid Message:\"\u001b[0m\u001b[0;34m,\u001b[0m \u001b[0mexc_info\u001b[0m\u001b[0;34m=\u001b[0m\u001b[0;32mTrue\u001b[0m\u001b[0;34m)\u001b[0m\u001b[0;34m\u001b[0m\u001b[0;34m\u001b[0m\u001b[0m\n",
            "\u001b[0;31mKeyboardInterrupt\u001b[0m: Interrupted by user"
          ]
        }
      ],
      "source": [
        "\n",
        "if __name__ == \"__main__\":\n",
        "  userpoints = 500\n",
        "  while True:\n",
        "    if userpoints<= 0:\n",
        "      print(\"RECHARGE YOUR CARD\")\n",
        "      break\n",
        "    if userpoints<30:\n",
        "      print(\"Low Balance You can access cafeteria only\")\n",
        "    print()\n",
        "    print(\"------------------------------------Welcome To Gamezone----------------------------------\")\n",
        "    print()\n",
        "    print(\"Press 1 for Cafeteria\")\n",
        "    print(\"Press 2 for Flames\")\n",
        "    print(\"Press 3 for Rock Paper Scissors\")\n",
        "    print(\"Press 4 for Guess The Movie\")\n",
        "    print(\"Press 5 for Snake And Ladder\")\n",
        "    print(\"Press 6 for Tic Tac Toe\")\n",
        "    print(\"Press 0 To Exit\")\n",
        "    print()\n",
        "    useroptn = input(\"Enter Your Choice \")\n",
        "    if useroptn == \"0\":\n",
        "      break\n",
        "    elif useroptn == \"1\":\n",
        "      print(\"You have \",userpoints,\"points\")\n",
        "      print(\"Do you want to continue to go to Cafeteria portal \")\n",
        "      print(\"Yes/No\")\n",
        "      print()\n",
        "      user_confirm = input(\"Please confirm Sir by typing YES/NO \")\n",
        "      user_confirm = user_confirm.lower()\n",
        "      if user_confirm ==  \"yes\":\n",
        "        userpoints = cafeteria(userpoints)\n",
        "        continue\n",
        "        \n",
        "      elif user_confirm == \"no\" or user_confirm == \"\":\n",
        "        continue\n",
        "      else:\n",
        "        print(\"Invalid Entry\")\n",
        "    elif useroptn == \"2\" and userpoints >= 30 :\n",
        "      print(\"You have \",userpoints,\"points\")\n",
        "      print(\"Do you want to continue to go to Flames portal \")\n",
        "      print(\"It will cost you 30 points\")\n",
        "      print(\"Yes/No\")\n",
        "      print()\n",
        "      user_confirm = input(\"Please confirm Sir by typing YES/NO \")\n",
        "      user_confirm = user_confirm.lower()\n",
        "      if user_confirm ==  \"yes\":\n",
        "        userpoints =userpoints - 30 \n",
        "        userpoints = flames(userpoints)\n",
        "      elif user_confirm == \"no\" or user_confirm == \"\":\n",
        "        continue\n",
        "      else:\n",
        "        print(\"Invalid Entry\")\n",
        "    elif useroptn == \"3\" and userpoints>=30:\n",
        "      print(\"You have \",userpoints,\"points\")\n",
        "      print(\"Do you want to continue to go to Rock Paper Scissors portal \")\n",
        "      print(\"It will cost you 30 points\")\n",
        "      print(\"Yes/No\")\n",
        "      print()\n",
        "      user_confirm = input(\"Please confirm Sir by typing YES/NO \")\n",
        "      user_confirm = user_confirm.lower()\n",
        "      if user_confirm ==  \"yes\":\n",
        "        userpoints -= 30 \n",
        "        userpoints = ropasc(userpoints)\n",
        "      elif user_confirm == \"no\" or user_confirm == \"\":\n",
        "        continue\n",
        "      else:\n",
        "        print(\"Invalid Entry\")\n",
        "    elif useroptn == \"4\" and userpoints>=30:\n",
        "      print(\"You have \",userpoints,\"points\")\n",
        "      print(\"Do you want to continue to go to Guess The Movies portal \")\n",
        "      print(\"It will cost you 30 points\")\n",
        "      print(\"Yes/No\")\n",
        "      print()\n",
        "      user_confirm = input(\"Please confirm Sir by typing YES/NO \")\n",
        "      user_confirm = user_confirm.lower()\n",
        "      if user_confirm ==  \"yes\":\n",
        "        userpoints -= 30 \n",
        "        userpoints = score_movie(userpoints)\n",
        "      elif user_confirm == \"no\" or user_confirm == \"\":\n",
        "        continue\n",
        "      else:\n",
        "        print(\"invalid entry\")\n",
        "    elif useroptn == \"5\" and userpoints>=30:\n",
        "      print(\"You have \",userpoints,\"points\")\n",
        "      print(\"Do you want to continue to go to Snake And Ladder portal \")\n",
        "      print(\"It will cost you 30 points\")\n",
        "      print(\"Yes/No\")\n",
        "      print()\n",
        "      user_confirm = input(\"Please confirm Sir by typing YES/NO \")\n",
        "      user_confirm = user_confirm.lower()\n",
        "      if user_confirm ==  \"yes\":\n",
        "        userpoints -= 30 \n",
        "        userpoints = snakeandlader(userpoints)\n",
        "      elif user_confirm == \"no\" or user_confirm == \"\":\n",
        "        continue\n",
        "      else:\n",
        "        print(\"Invalid Entry\")\n",
        "    elif useroptn == \"6\" and userpoints>=30:\n",
        "      print(\"You have \",userpoints,\"points\")\n",
        "      print(\"Do you want to continue to go to Tic Tac Toe portal \")\n",
        "      print(\"It will cost you 30 points\")\n",
        "      print(\"Yes/No\")\n",
        "      print()\n",
        "      user_confirm = input(\"Please confirm Sir by typing YES/NO \")\n",
        "      user_confirm = user_confirm.lower()\n",
        "      if user_confirm ==  \"yes\":\n",
        "        userpoints -= 30 \n",
        "        tictactoe()\n",
        "      elif user_confirm == \"no\" or user_confirm == \"\":\n",
        "        continue\n",
        "      else:\n",
        "        print(\"Invalid Entry\")\n",
        "    else:\n",
        "      print(\"Invalid choice\")\n",
        "      print(\"Please enter again\")"
      ]
    }
  ],
  "metadata": {
    "colab": {
      "provenance": []
    },
    "kernelspec": {
      "display_name": "Python 3",
      "name": "python3"
    },
    "language_info": {
      "name": "python"
    }
  },
  "nbformat": 4,
  "nbformat_minor": 0
}