{
  "nbformat": 4,
  "nbformat_minor": 0,
  "metadata": {
    "colab": {
      "provenance": []
    },
    "kernelspec": {
      "name": "python3",
      "display_name": "Python 3"
    },
    "language_info": {
      "name": "python"
    }
  },
  "cells": [
    {
      "cell_type": "code",
      "execution_count": 1,
      "metadata": {
        "id": "xiZqo0DxqgiE"
      },
      "outputs": [],
      "source": [
        "#Packages\n",
        "import sqlite3\n",
        "import re"
      ]
    },
    {
      "cell_type": "code",
      "source": [
        "#connection\n",
        "conn=sqlite3.connect(\"myWebsite.db\")\n",
        "crsr=conn.cursor()\n"
      ],
      "metadata": {
        "id": "S0OZR8utrh2m"
      },
      "execution_count": 3,
      "outputs": []
    },
    {
      "cell_type": "code",
      "source": [
        "#command\n",
        "sql_command=\"\"\"CREATE TABLE emp2 (id INTEGER primary key AUTOINCREMENT,\n",
        "name VARCHAR(30),phone_number varchar(10),  email VARCHAR(44), password varchar(33));\"\"\"\n",
        "crsr.execute(sql_command)\n",
        "conn.commit()\n"
      ],
      "metadata": {
        "id": "LFDqdGjMrvRL"
      },
      "execution_count": 4,
      "outputs": []
    },
    {
      "cell_type": "code",
      "source": [
        "#Registration\n",
        "def registration_page():\n",
        "  name=input(\"Enter Your Name\")\n",
        "  phone_number=input(\"Enter Your phone number\")\n",
        "  email=input(\"Enter Your Email id \")\n",
        "  password=input(\"Enter Your Password must include one or more special character \")\n",
        "\n",
        "  if 1==validate_name(name) and 1==validate_number(phone_number) and 1==validate_email(email) and 1==validate_pass(password):\n",
        "    lst=[name,phone_number,email,password]\n",
        "    crsr=conn.cursor()\n",
        "    crsr.execute(\"\"\"insert into emp2 (name,phone_number,email,password) values(?,?,?,?)\"\"\",lst)\n",
        "    conn.commit()\n",
        "  \n",
        "\n",
        "\n",
        "\n",
        "\n",
        "  \n",
        "  "
      ],
      "metadata": {
        "id": "5Ydecn3TrEJ5"
      },
      "execution_count": 5,
      "outputs": []
    },
    {
      "cell_type": "code",
      "source": [
        "def validate_name(name):\n",
        "  pat_name=re.compile(\"^[A-Za-z ]+$\")\n",
        "  y=pat_name.match(name)\n",
        "  if y==None:\n",
        "    return 0\n",
        "  else:\n",
        "    return 1\n",
        "def validate_number(phone_number):\n",
        "  pat_number=re.compile(\"^[7-9]+[0-9]{9}\")\n",
        "  z=pat_number.match(phone_number)\n",
        "  if z==None:\n",
        "    return 0\n",
        "  else:\n",
        "    return 1\n",
        "def validate_email(email):\n",
        "  pat_email=re.compile(\"^[A-Za-z0-9]+[.]*[A-Za-z0-9]*@gmail.com$\")\n",
        "  e=pat_email.match(email)\n",
        "  if e==None:\n",
        "    return 0\n",
        "  else:\n",
        "    return 1\n",
        "def validate_pass(password):\n",
        "  pat_pss=re.compile(\"^[A-Za-z0-9]+[*$@_]+[A-Za-z0-9]*$\")\n",
        "  p=pat_pss.match(password)\n",
        "  if p==None:\n",
        "    return 0\n",
        "  else:\n",
        "    return 1\n",
        "\n",
        "\n"
      ],
      "metadata": {
        "id": "zru5tX5arhRd"
      },
      "execution_count": 6,
      "outputs": []
    },
    {
      "cell_type": "code",
      "source": [
        "registration_page()"
      ],
      "metadata": {
        "colab": {
          "base_uri": "https://localhost:8080/"
        },
        "id": "6AK3hD_4xcV8",
        "outputId": "8a1a5bda-f491-4f27-8bf9-befaa7607f42"
      },
      "execution_count": 7,
      "outputs": [
        {
          "name": "stdout",
          "output_type": "stream",
          "text": [
            "Enter Your NameNikita Joshi\n",
            "Enter Your phone number9786543214\n",
            "Enter Your Email id nikita.joshi@gmail.com\n",
            "Enter Your Password must include one or more special character Nikita@33\n"
          ]
        }
      ]
    },
    {
      "cell_type": "code",
      "source": [
        "crsr.execute(\"Select * from emp2\")\n",
        "# for i in crsr:\n",
        "#   print(i)\n",
        "lst1=crsr.fetchall()\n",
        "print(lst1)\n",
        "\n"
      ],
      "metadata": {
        "colab": {
          "base_uri": "https://localhost:8080/"
        },
        "id": "x7LrZBAhyZud",
        "outputId": "723d3617-83da-4216-8c0f-e3340e595565"
      },
      "execution_count": 8,
      "outputs": [
        {
          "output_type": "stream",
          "name": "stdout",
          "text": [
            "[(1, 'Nikita Joshi', '9786543214', 'nikita.joshi@gmail.com', 'Nikita@33')]\n"
          ]
        }
      ]
    },
    {
      "cell_type": "code",
      "source": [
        "def login_page():\n",
        "  email=input(\"Enter your email \")\n",
        "  password=input(\"Enter your password \")\n",
        "  ans=crsr.execute(\"select * from emp2\")\n",
        "  for i in ans:\n",
        "    if email in i:\n",
        "      if password in i:\n",
        "        print(\"Successfull\")\n",
        "      else:\n",
        "        print(\"Fail\")\n",
        "\n",
        "\n",
        "# login_page()\n",
        "  # if email in lst1[3] and password==lst1[4]:\n",
        "  #   print(\"Successfully Login\")\n",
        "  # else:\n",
        "    # print(\"Failed\")\n",
        "\n"
      ],
      "metadata": {
        "colab": {
          "base_uri": "https://localhost:8080/"
        },
        "id": "F_hcCi_y4HWP",
        "outputId": "5b2b7987-5ba1-4e4a-b5fe-8d6c7c17eeba"
      },
      "execution_count": 10,
      "outputs": [
        {
          "name": "stdout",
          "output_type": "stream",
          "text": [
            "Enter your email Nikita@afd\n",
            "Enter your password dfs\n"
          ]
        }
      ]
    },
    {
      "cell_type": "code",
      "source": [
        "login_page()"
      ],
      "metadata": {
        "colab": {
          "base_uri": "https://localhost:8080/"
        },
        "id": "YjNqLdBtdYoY",
        "outputId": "d13f4c80-39c8-4e76-ab54-4b10bd8ade98"
      },
      "execution_count": 12,
      "outputs": [
        {
          "output_type": "stream",
          "name": "stdout",
          "text": [
            "Enter your email nikita.joshi@gmail.com\n",
            "Enter your password Nikita@33\n",
            "Successfull\n"
          ]
        }
      ]
    },
    {
      "cell_type": "code",
      "source": [
        "def update():\n",
        "  name=input(\"Enter your name\")\n",
        "  ans=crsr.execute(\"select * from emp2\")\n",
        "  for i in ans:\n",
        "    if name in i:\n",
        "      curemail=input(\"Enter Your  email\")\n",
        "      curpassword=input(\"Enter   Password\")\n",
        "      # curphone_number=input(\"Enter Your phone number\")\n",
        "      ans1=crsr.execute(\"select * from emp2\")\n",
        "      for j in ans1:\n",
        "        if curemail in j and curpassword in j :\n",
        "          newemail=input(\"Enter Your new  email \")\n",
        "          newpassword=input(\"Enter  new Password \")\n",
        "          newphone_number=input(\"Enter Your new phone number \")\n",
        "          lst3=[newemail,newphone_number,newpassword,name]\n",
        "          crsr.execute(\"update  emp2 set email=? , phone_number=?, password=? where name==?\",lst3)\n",
        "          conn.commit()\n",
        "\n",
        "\n"
      ],
      "metadata": {
        "id": "kh8B_3vB8_TM"
      },
      "execution_count": 14,
      "outputs": []
    },
    {
      "cell_type": "code",
      "source": [
        "update()"
      ],
      "metadata": {
        "id": "f0pt0oqKGcer"
      },
      "execution_count": null,
      "outputs": []
    }
  ]
}